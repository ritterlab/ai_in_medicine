{
  "nbformat": 4,
  "nbformat_minor": 0,
  "metadata": {
    "colab": {
      "provenance": []
    },
    "kernelspec": {
      "name": "python3",
      "display_name": "Python 3"
    },
    "language_info": {
      "name": "python"
    }
  },
  "cells": [
    {
      "cell_type": "code",
      "execution_count": null,
      "metadata": {
        "id": "sE-8Tt1MDENg"
      },
      "outputs": [],
      "source": [
        "import matplotlib.pyplot as plt\n",
        "import pandas as pd\n",
        "import numpy as np\n",
        "\n",
        "random_state = 0\n",
        "np.random.seed(random_state)\n",
        "pd.set_option(\"display.max_columns\", False)"
      ]
    },
    {
      "cell_type": "code",
      "source": [
        "!wget -r -N -c -np https://physionet.org/files/eicu-crd-demo/2.0.1/ &> /dev/null"
      ],
      "metadata": {
        "id": "xjHEp3ZP5yL7"
      },
      "execution_count": null,
      "outputs": []
    },
    {
      "cell_type": "code",
      "source": [
        "!ls physionet.org/files/eicu-crd-demo/2.0.1/"
      ],
      "metadata": {
        "id": "8wWXoeTI6kYk"
      },
      "execution_count": null,
      "outputs": []
    },
    {
      "cell_type": "code",
      "source": [
        "patients = pd.read_csv(\"physionet.org/files/eicu-crd-demo/2.0.1/patient.csv.gz\")"
      ],
      "metadata": {
        "id": "GzEUI0Eu6z-A"
      },
      "execution_count": null,
      "outputs": []
    },
    {
      "cell_type": "code",
      "source": [
        "patients.head()"
      ],
      "metadata": {
        "id": "yxc0YAwSFw_s"
      },
      "execution_count": null,
      "outputs": []
    },
    {
      "cell_type": "code",
      "source": [
        "patients = patients[[\n",
        "    \"patientunitstayid\", \"patienthealthsystemstayid\", \"gender\", \"age\",\n",
        "    \"ethnicity\", \"apacheadmissiondx\", \"admissionheight\", \"hospitaladmitsource\",\n",
        "    \"hospitaldischargestatus\", \"unitadmitsource\", \"unitvisitnumber\",\n",
        "    \"admissionweight\"\n",
        "]]"
      ],
      "metadata": {
        "id": "HG6T3aX67AcP"
      },
      "execution_count": null,
      "outputs": []
    },
    {
      "cell_type": "markdown",
      "source": [
        "Note that the age column has a value \"> 89\" to mitigate re-identification risks. This entry prevents the conversion to a number. We'll map this to 90."
      ],
      "metadata": {
        "id": "sZfa4WTKlovd"
      }
    },
    {
      "cell_type": "code",
      "source": [
        "patients[\"age\"].unique()"
      ],
      "metadata": {
        "id": "AN6bn1wvllun"
      },
      "execution_count": null,
      "outputs": []
    },
    {
      "cell_type": "code",
      "source": [
        "patients.loc[patients[\"age\"] == \"> 89\", \"age\"] = \"90\"\n",
        "patients[\"age\"] = pd.to_numeric(patients[\"age\"])"
      ],
      "metadata": {
        "id": "erFVA6M6l88I"
      },
      "execution_count": null,
      "outputs": []
    },
    {
      "cell_type": "code",
      "source": [
        "fig = plt.figure(figsize=(12, 8))\n",
        "ax = fig.add_subplot(111)\n",
        "patients[\"hospitaldischargestatus\"].hist(bins=2, xlabelsize=16)\n",
        "ax.spines[\"top\"].set_visible(False)\n",
        "ax.spines[\"right\"].set_visible(False)\n",
        "ax.set_ylabel(\"Counts\", fontsize=16)\n",
        "ax.set_xlabel(\"Hospital discharge status\")"
      ],
      "metadata": {
        "id": "5mmKpJngM6Y3"
      },
      "execution_count": null,
      "outputs": []
    },
    {
      "cell_type": "markdown",
      "source": [
        "It is very common when looking at clinical outcomes, such as mortality, that the outcome is very unevenly distributed. This makes prediction problems really challenging!"
      ],
      "metadata": {
        "id": "AaivWitF7fEb"
      }
    },
    {
      "cell_type": "code",
      "source": [
        "no_alive = len(patients[patients['hospitaldischargestatus'] == 'Alive'])\n",
        "no_died = len(patients[patients[\"hospitaldischargestatus\"] == \"Expired\"])\n",
        "no_total = no_alive + no_died"
      ],
      "metadata": {
        "id": "--B3WKA18OZU"
      },
      "execution_count": null,
      "outputs": []
    },
    {
      "cell_type": "code",
      "source": [
        "print(f\"{no_alive} patients who left the hospital alive ({100*no_alive/no_total:.2f}%) and {no_died} who died in hospital ({100*no_died/no_total:.2f}%).\")"
      ],
      "metadata": {
        "id": "-VZKeuZB70dQ"
      },
      "execution_count": null,
      "outputs": []
    },
    {
      "cell_type": "markdown",
      "source": [
        "Let's see if we can predict who will leave the hospital alive! We'll only use the first unit stay during a hospitalization.\n",
        "\n",
        "Task 1: Keep only the first stay for each patient"
      ],
      "metadata": {
        "id": "ypjf1ylW9ilo"
      }
    },
    {
      "cell_type": "code",
      "source": [],
      "metadata": {
        "id": "FH4eifj2GSqc"
      },
      "execution_count": null,
      "outputs": []
    },
    {
      "cell_type": "code",
      "source": [
        "len(patients)"
      ],
      "metadata": {
        "id": "FCwrraNBF54e"
      },
      "execution_count": null,
      "outputs": []
    },
    {
      "cell_type": "markdown",
      "source": [
        "Since we only keep the first stay for each patient, the unitvisitnumber is not required anymore"
      ],
      "metadata": {
        "id": "SrAuI3tVNaCt"
      }
    },
    {
      "cell_type": "code",
      "source": [
        "patients = patients.drop([\"patientunitstayid\", \"unitvisitnumber\"], axis=1)"
      ],
      "metadata": {
        "id": "Gbp7DVsnNfQg"
      },
      "execution_count": null,
      "outputs": []
    },
    {
      "cell_type": "markdown",
      "source": [
        "Convert some features to categorical and look at the histograms"
      ],
      "metadata": {
        "id": "o5IRYPx4RvII"
      }
    },
    {
      "cell_type": "code",
      "source": [
        "categorical_features = [\"gender\", \"ethnicity\", \"apacheadmissiondx\", \"hospitaladmitsource\", \"hospitaldischargestatus\", \"unitadmitsource\"]\n",
        "for feat in categorical_features:\n",
        "    patients.loc[:, feat] = patients.loc[:, feat].astype(\"category\")"
      ],
      "metadata": {
        "id": "0MC2ISaSRnuP"
      },
      "execution_count": null,
      "outputs": []
    },
    {
      "cell_type": "code",
      "source": [
        "#fig, ax = plt.subplots(nrows=len(categorical_features), ncols=1, figsize=(18, 36))\n",
        "for feat in categorical_features:\n",
        "    fig = plt.figure(figsize=(12,8))\n",
        "    ax = fig.add_subplot(111)\n",
        "    patients[feat].value_counts().plot(kind=\"bar\", ax=ax, fontsize=18)\n",
        "    ax.set_xlabel(\"outcome\", fontsize=18)\n",
        "    ax.set_ylabel(\"Counts\", fontsize=18)\n",
        "    ax.spines[\"top\"].set_visible(False)\n",
        "    ax.spines[\"right\"].set_visible(False)\n",
        "    plt.tight_layout()\n"
      ],
      "metadata": {
        "id": "WZZ6sCN5P1hO"
      },
      "execution_count": null,
      "outputs": []
    },
    {
      "cell_type": "code",
      "source": [
        "for feat in [\"admissionheight\", \"admissionweight\", \"age\"]:\n",
        "    fig = plt.figure(figsize=(12,8))\n",
        "    ax = fig.add_subplot(111)\n",
        "    patients[feat].hist(ax=ax, bins=40)\n",
        "    ax.set_xlabel(f\"{feat}\", fontsize=18)\n",
        "    ax.set_ylabel(\"Counts\", fontsize=18)\n",
        "    ax.spines[\"top\"].set_visible(False)\n",
        "    ax.spines[\"right\"].set_visible(False)\n",
        "    plt.tight_layout()"
      ],
      "metadata": {
        "id": "KjPfvSFIYllC"
      },
      "execution_count": null,
      "outputs": []
    },
    {
      "cell_type": "markdown",
      "source": [
        "Let us generate some features for our prediction task"
      ],
      "metadata": {
        "id": "_NMKxVUIA6Ya"
      }
    },
    {
      "cell_type": "code",
      "source": [
        "patients[\"outcome\"] = np.where(patients[\"hospitaldischargestatus\"] == \"Alive\", 0, 1)\n",
        "patients[\"admitsource\"] = np.where(patients[\"hospitaladmitsource\"] == \"Emergency Department\", 1, 0)\n",
        "patients[\"gender\"] = np.where(patients[\"gender\"] == \"Female\", 1, 0)\n",
        "patients = patients.drop([\"hospitaldischargestatus\", \"hospitaladmitsource\", \"unitadmitsource\", \"apacheadmissiondx\", \"ethnicity\"], axis=1)"
      ],
      "metadata": {
        "id": "Aalk05l-A5Wr"
      },
      "execution_count": null,
      "outputs": []
    },
    {
      "cell_type": "code",
      "source": [
        "patients.head()"
      ],
      "metadata": {
        "id": "5oSQ6HK6Sc-T"
      },
      "execution_count": null,
      "outputs": []
    },
    {
      "cell_type": "code",
      "source": [
        "patients.dtypes"
      ],
      "metadata": {
        "id": "pVK2do8HMRDx"
      },
      "execution_count": null,
      "outputs": []
    },
    {
      "cell_type": "code",
      "source": [
        "from sklearn.model_selection import train_test_split"
      ],
      "metadata": {
        "id": "UZD_06DrsedK"
      },
      "execution_count": null,
      "outputs": []
    },
    {
      "cell_type": "code",
      "source": [
        "len(patients[\"patienthealthsystemstayid\"].unique())"
      ],
      "metadata": {
        "id": "-hi4lFrw5ktz"
      },
      "execution_count": null,
      "outputs": []
    },
    {
      "cell_type": "markdown",
      "source": [
        "Task 2: Generate a train/test split with sizes 80% / 20%"
      ],
      "metadata": {
        "id": "bXfjp8itJZ2-"
      }
    },
    {
      "cell_type": "code",
      "source": [],
      "metadata": {
        "id": "p0BlNg3g5eGx"
      },
      "execution_count": null,
      "outputs": []
    },
    {
      "cell_type": "code",
      "source": [
        "train_patients = patients[patients[\"patienthealthsystemstayid\"].isin(train_pat_ids)]\n",
        "test_patients = patients[patients[\"patienthealthsystemstayid\"].isin(test_pat_ids)]"
      ],
      "metadata": {
        "id": "Ir3sN38G54VW"
      },
      "execution_count": null,
      "outputs": []
    },
    {
      "cell_type": "markdown",
      "source": [
        "It is very important to carefully set up your test problem. It is unlikely that the model will perform well on the test data set if the distribution of the outcome (mortality) is very different from the outcome on the training data."
      ],
      "metadata": {
        "id": "Opr64d_a904k"
      }
    },
    {
      "cell_type": "code",
      "source": [
        "fig = plt.figure(figsize=(12,8))\n",
        "ax = fig.add_subplot(111)\n",
        "test_patients[\"outcome\"].value_counts().plot(kind=\"bar\", ax=ax, fontsize=18)\n",
        "ax.set_xlabel(f\"{feat}\", fontsize=18)\n",
        "ax.set_ylabel(\"Counts\", fontsize=18)\n",
        "ax.spines[\"top\"].set_visible(False)\n",
        "ax.spines[\"right\"].set_visible(False)\n",
        "plt.tight_layout()"
      ],
      "metadata": {
        "id": "wsUnz4J27Dpq"
      },
      "execution_count": null,
      "outputs": []
    },
    {
      "cell_type": "code",
      "source": [
        "no_alive_test = len(test_patients[test_patients[\"outcome\"] == 0])\n",
        "no_died_test = len(test_patients[test_patients[\"outcome\"] == 1])\n",
        "no_total_test = no_alive_test + no_died_test"
      ],
      "metadata": {
        "id": "MsQov5Fl7VHt"
      },
      "execution_count": null,
      "outputs": []
    },
    {
      "cell_type": "code",
      "source": [
        "print(f\"{no_alive_test} patients who left the hospital alive ({100*no_alive_test/no_total_test:.2f}%) and {no_died} who died in hospital ({100*no_died_test/no_total_test:.2f}%).\")"
      ],
      "metadata": {
        "id": "bXbsBuW_-TOZ"
      },
      "execution_count": null,
      "outputs": []
    },
    {
      "cell_type": "code",
      "source": [
        "train_patients.head()"
      ],
      "metadata": {
        "id": "J2oFz9oc_pbQ"
      },
      "execution_count": null,
      "outputs": []
    },
    {
      "cell_type": "code",
      "source": [
        "train_patients.dtypes"
      ],
      "metadata": {
        "id": "3sPfMMyXNoih"
      },
      "execution_count": null,
      "outputs": []
    },
    {
      "cell_type": "code",
      "source": [
        "x_train = train_patients[[\"gender\", \"age\", \"admissionheight\", \"admissionweight\"]].to_numpy()\n",
        "y_train = train_patients[[\"outcome\"]].to_numpy()"
      ],
      "metadata": {
        "id": "MllqjtxiN_j7"
      },
      "execution_count": null,
      "outputs": []
    },
    {
      "cell_type": "markdown",
      "source": [
        "Which model should we use?\n",
        "\n",
        "- How can we evaluate whether a complex model gives us a benefit?\n",
        "- What is the simplest model you can think of?"
      ],
      "metadata": {
        "id": "z5PY17XQO9_O"
      }
    },
    {
      "cell_type": "code",
      "source": [
        "from sklearn.linear_model import LogisticRegression\n",
        "\n",
        "model = LogisticRegression()"
      ],
      "metadata": {
        "id": "oLH7j5JWPU3C"
      },
      "execution_count": null,
      "outputs": []
    },
    {
      "cell_type": "code",
      "source": [
        "model.fit(x_train, y_train)"
      ],
      "metadata": {
        "id": "aG05HHxzPmY1"
      },
      "execution_count": null,
      "outputs": []
    },
    {
      "cell_type": "markdown",
      "source": [
        "Oops, we got ahead of ourselves... Not all rows and columns contain valid data\n",
        "\n",
        "Missingness is a problem we encounter often when working with electronic health records"
      ],
      "metadata": {
        "id": "F2YamRs0Pqmr"
      }
    },
    {
      "cell_type": "code",
      "source": [
        "train_patients.loc[train_patients.isna().any(axis=1), :]"
      ],
      "metadata": {
        "id": "CGcr8pMUPwtE"
      },
      "execution_count": null,
      "outputs": []
    },
    {
      "cell_type": "markdown",
      "source": [
        "Task 3: Identify all columns that have missing values"
      ],
      "metadata": {
        "id": "40ujVQK3R45c"
      }
    },
    {
      "cell_type": "code",
      "source": [],
      "metadata": {
        "id": "jYFkvoBwRfXd"
      },
      "execution_count": null,
      "outputs": []
    },
    {
      "cell_type": "markdown",
      "source": [
        "The simplest solution is to do mean or median imputation"
      ],
      "metadata": {
        "id": "G0MsMp1hRGIx"
      }
    },
    {
      "cell_type": "code",
      "source": [
        "means = train_patients.mean()"
      ],
      "metadata": {
        "id": "5qE7hpa_RFY_"
      },
      "execution_count": null,
      "outputs": []
    },
    {
      "cell_type": "code",
      "source": [
        "train_patients = train_patients.fillna(means)"
      ],
      "metadata": {
        "id": "1kcRq5_8RXO-"
      },
      "execution_count": null,
      "outputs": []
    },
    {
      "cell_type": "code",
      "source": [
        "train_patients.isna().any(axis=0)"
      ],
      "metadata": {
        "id": "UJ01bVsMRz1H"
      },
      "execution_count": null,
      "outputs": []
    },
    {
      "cell_type": "code",
      "source": [
        "x_train = train_patients[[\"gender\", \"age\", \"admissionheight\", \"admissionweight\"]].to_numpy()\n",
        "y_train = np.squeeze(train_patients[[\"outcome\"]].to_numpy())"
      ],
      "metadata": {
        "id": "4BXvU8nwSQD1"
      },
      "execution_count": null,
      "outputs": []
    },
    {
      "cell_type": "code",
      "source": [
        "from sklearn.metrics import accuracy_score\n",
        "from sklearn.model_selection import cross_validate"
      ],
      "metadata": {
        "id": "lZWxo56vT5AX"
      },
      "execution_count": null,
      "outputs": []
    },
    {
      "cell_type": "code",
      "source": [
        "model = LogisticRegression()"
      ],
      "metadata": {
        "id": "MJzXQKo6qyRY"
      },
      "execution_count": null,
      "outputs": []
    },
    {
      "cell_type": "code",
      "source": [
        "model.fit(x_train, y_train)"
      ],
      "metadata": {
        "id": "640mH5sxrr6R"
      },
      "execution_count": null,
      "outputs": []
    },
    {
      "cell_type": "code",
      "source": [
        "y_hat = model.predict(x_train)"
      ],
      "metadata": {
        "id": "RdFoNg-2qwwD"
      },
      "execution_count": null,
      "outputs": []
    },
    {
      "cell_type": "code",
      "source": [
        "score = accuracy_score(y_train, y_hat)"
      ],
      "metadata": {
        "id": "KKPvRKFhsrbi"
      },
      "execution_count": null,
      "outputs": []
    },
    {
      "cell_type": "code",
      "source": [
        "print(score)"
      ],
      "metadata": {
        "id": "HSZFaPDGs0Ty"
      },
      "execution_count": null,
      "outputs": []
    },
    {
      "cell_type": "markdown",
      "source": [
        "We have an accuracy above 90% !\n",
        "Let's look at predictions..."
      ],
      "metadata": {
        "id": "cwwnVYXmqiz0"
      }
    },
    {
      "cell_type": "code",
      "source": [
        "fig = plt.figure(figsize=(12, 8))\n",
        "ax = fig.add_subplot(111)\n",
        "ax.hist(y_hat, bins=[0, 0.5, 1])\n",
        "ax.spines[\"top\"].set_visible(False)\n",
        "ax.spines[\"right\"].set_visible(False)\n",
        "ax.set_ylabel(\"Counts\")\n",
        "ax.set_xlabel(\"Predictions\")"
      ],
      "metadata": {
        "id": "uik_nPu6r0Ts"
      },
      "execution_count": null,
      "outputs": []
    },
    {
      "cell_type": "code",
      "source": [
        "from sklearn.metrics import confusion_matrix, ConfusionMatrixDisplay"
      ],
      "metadata": {
        "id": "B2ZCiQt4s-wx"
      },
      "execution_count": null,
      "outputs": []
    },
    {
      "cell_type": "code",
      "source": [
        "fig = plt.figure(figsize=(12, 8))\n",
        "ax = fig.add_subplot(111)\n",
        "conf_mat = confusion_matrix(y_train, y_hat)\n",
        "ConfusionMatrixDisplay(confusion_matrix=conf_mat).plot(ax=ax)"
      ],
      "metadata": {
        "id": "0vooPMwotA2T"
      },
      "execution_count": null,
      "outputs": []
    },
    {
      "cell_type": "code",
      "source": [
        "from sklearn.svm import SVC\n",
        "from sklearn.neighbors import KNeighborsClassifier\n",
        "from sklearn.ensemble import GradientBoostingClassifier\n",
        "from sklearn.neural_network import MLPClassifier"
      ],
      "metadata": {
        "id": "ZUkOGRbDyFFr"
      },
      "execution_count": null,
      "outputs": []
    },
    {
      "cell_type": "code",
      "source": [
        "models = {\n",
        "    \"SVM\": SVC(),\n",
        "    \"KNN5\": KNeighborsClassifier(n_neighbors=5),\n",
        "    \"KNN10\": KNeighborsClassifier(n_neighbors=10),\n",
        "    \"KNN15\": KNeighborsClassifier(n_neighbors=15),\n",
        "    \"KNN20\": KNeighborsClassifier(n_neighbors=20),\n",
        "    \"GBC\": GradientBoostingClassifier(),\n",
        "    \"mlp_0\": MLPClassifier(hidden_layer_sizes=(100,), max_iter=1000),\n",
        "    \"mlp_1\": MLPClassifier(hidden_layer_sizes=(100, 100), max_iter=1000),\n",
        "    \"mlp_2\": MLPClassifier(hidden_layer_sizes=(100, 50, 30), max_iter=1000)\n",
        "}"
      ],
      "metadata": {
        "id": "Mj8iZajexksz"
      },
      "execution_count": null,
      "outputs": []
    },
    {
      "cell_type": "code",
      "source": [
        "for model_name, model in models.items():\n",
        "    results = cross_validate(model, x_train, y_train, cv=5, scoring=\"average_precision\")\n",
        "    print(model_name, results[\"test_score\"], np.median(results[\"test_score\"]))"
      ],
      "metadata": {
        "id": "8vWujm1cqODY"
      },
      "execution_count": null,
      "outputs": []
    },
    {
      "cell_type": "markdown",
      "source": [
        "Which one is your best model?"
      ],
      "metadata": {
        "id": "DeHTBFPCfv9k"
      }
    },
    {
      "cell_type": "code",
      "source": [
        "BEST_MODEL = \"\""
      ],
      "metadata": {
        "id": "LoirpZy4fyuH"
      },
      "execution_count": null,
      "outputs": []
    },
    {
      "cell_type": "code",
      "source": [
        "models[BEST_MODEL].fit(x_train, y_train)"
      ],
      "metadata": {
        "id": "Eb69Mhu73X_d"
      },
      "execution_count": null,
      "outputs": []
    },
    {
      "cell_type": "code",
      "source": [
        "y_hat = models[BEST_MODEL].predict(x_train)"
      ],
      "metadata": {
        "id": "nYbchFM_3gop"
      },
      "execution_count": null,
      "outputs": []
    },
    {
      "cell_type": "code",
      "source": [
        "y_hat"
      ],
      "metadata": {
        "id": "cYxDiGGJ3xbu"
      },
      "execution_count": null,
      "outputs": []
    },
    {
      "cell_type": "code",
      "source": [
        "fig = plt.figure(figsize=(12, 8))\n",
        "ax = fig.add_subplot(111)\n",
        "conf_mat = confusion_matrix(y_train, y_hat)\n",
        "ConfusionMatrixDisplay(confusion_matrix=conf_mat).plot(ax=ax)"
      ],
      "metadata": {
        "id": "H0qTBYG23jKo"
      },
      "execution_count": null,
      "outputs": []
    },
    {
      "cell_type": "code",
      "source": [
        "from sklearn.metrics import RocCurveDisplay"
      ],
      "metadata": {
        "id": "pm6rEFJvBSux"
      },
      "execution_count": null,
      "outputs": []
    },
    {
      "cell_type": "code",
      "source": [
        "RocCurveDisplay.from_estimator(models[BEST_MODEL], X_test, y_test)"
      ],
      "metadata": {
        "id": "KbGVA41nf_UM"
      },
      "execution_count": null,
      "outputs": []
    },
    {
      "cell_type": "markdown",
      "source": [
        "How can we make better predictions?\n",
        "We do have more data available...\n",
        "Let us start by adding two columns from the apachePatientResult"
      ],
      "metadata": {
        "id": "II4jO3gtBTqo"
      }
    },
    {
      "cell_type": "markdown",
      "source": [
        "Task 4: Predictions on the test set"
      ],
      "metadata": {
        "id": "Bc98tXn4_Sx9"
      }
    },
    {
      "cell_type": "code",
      "source": [
        "fig = plt.figure(figsize=(12, 8))\n",
        "ax = fig.add_subplot(111)\n",
        "conf_mat = confusion_matrix(y_test, y_hat)\n",
        "ConfusionMatrixDisplay(confusion_matrix=conf_mat).plot(ax=ax)"
      ],
      "metadata": {
        "id": "myffMHI5_1RJ"
      },
      "execution_count": null,
      "outputs": []
    },
    {
      "cell_type": "code",
      "source": [
        "RocCurveDisplay.from_estimator(models[BEST_MODEL], X_test, y_test)"
      ],
      "metadata": {
        "id": "QjBwdZ8UgR5K"
      },
      "execution_count": null,
      "outputs": []
    },
    {
      "cell_type": "markdown",
      "source": [
        "Solution to tasks:\n",
        "\n"
      ],
      "metadata": {
        "id": "jWtadjhtGU3Z"
      }
    },
    {
      "cell_type": "code",
      "source": [
        "# Task 1:\n",
        "\n",
        "# patients = patients.loc[patients.groupby(\"patienthealthsystemstayid\")[\"unitvisitnumber\"].idxmin().reset_index(drop=True), :]"
      ],
      "metadata": {
        "id": "ii96OPSVGWeb"
      },
      "execution_count": null,
      "outputs": []
    },
    {
      "cell_type": "code",
      "source": [
        "# Task 2:\n",
        "\n",
        "# train_pat_ids, test_pat_ids = train_test_split(patients[\"patienthealthsystemstayid\"].unique(), test_size=0.2)"
      ],
      "metadata": {
        "id": "cGOIgCX4Gds7"
      },
      "execution_count": null,
      "outputs": []
    },
    {
      "cell_type": "code",
      "source": [
        "# Task 3:\n",
        "\n",
        "# train_patients.isna().any(axis=0)"
      ],
      "metadata": {
        "id": "re6cNcsMSIBC"
      },
      "execution_count": null,
      "outputs": []
    },
    {
      "cell_type": "code",
      "source": [
        "# Task 4.1:\n",
        "\n",
        "# x_test = test_patients[[\"gender\", \"age\", \"admissionheight\", \"admissionweight\"]].fillna(means).to_numpy()\n",
        "# y_test = np.squeeze(test_patients[[\"outcome\"]].to_numpy())"
      ],
      "metadata": {
        "id": "P6aiVlbWHFAI"
      },
      "execution_count": null,
      "outputs": []
    },
    {
      "cell_type": "code",
      "source": [
        "# Task 4.2\n",
        "\n",
        "# y_hat = models[\"GBC\"].predict(scaler.transform(x_test))"
      ],
      "metadata": {
        "id": "wJH2Ue19HLgz"
      },
      "execution_count": null,
      "outputs": []
    }
  ]
}
